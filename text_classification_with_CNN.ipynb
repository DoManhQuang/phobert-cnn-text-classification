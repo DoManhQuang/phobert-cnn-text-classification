{
  "cells": [
    {
      "cell_type": "code",
      "execution_count": 1,
      "metadata": {
        "id": "SFldcV6fnjoU"
      },
      "outputs": [],
      "source": [
        "import os\n",
        "import numpy as np\n",
        "import pickle\n",
        "from sklearn.preprocessing import LabelBinarizer\n",
        "from keras.models import Sequential\n",
        "from keras import Input\n",
        "from keras.layers import Flatten, Conv2D, MaxPool2D, Dropout, GlobalAveragePooling2D\n",
        "from keras.layers import Dense, BatchNormalization, GlobalMaxPooling2D, MaxPooling2D\n",
        "from sklearn.model_selection import train_test_split\n",
        "\n",
        "import pandas as pd\n",
        "import seaborn as sn\n",
        "import matplotlib.pyplot as plt\n",
        "from sklearn.metrics import confusion_matrix\n",
        "import tensorflow as tf"
      ]
    },
    {
      "cell_type": "code",
      "execution_count": 2,
      "metadata": {
        "colab": {
          "base_uri": "https://localhost:8080/"
        },
        "id": "SXPBvdOGnlX1",
        "outputId": "e11fade4-9a94-4315-ddd1-9d996ba51d87"
      },
      "outputs": [
        {
          "name": "stdout",
          "output_type": "stream",
          "text": [
            "Mounted at /content/drive\n"
          ]
        }
      ],
      "source": [
        "from google.colab import drive\n",
        "drive.mount('/content/drive')"
      ]
    },
    {
      "cell_type": "code",
      "execution_count": 3,
      "metadata": {
        "id": "fEWZvABcnmoN"
      },
      "outputs": [],
      "source": [
        "def save_dump(file_path, data, labels):\n",
        "    file = open(file_path, 'wb')\n",
        "    # dump information to that file\n",
        "    pickle.dump((data, labels), file)\n",
        "    # close the file\n",
        "    file.close()\n",
        "    pass\n",
        "\n",
        "\n",
        "def load_data(path_file):\n",
        "    file = open(path_file, 'rb')\n",
        "    # dump information to that file\n",
        "    (pixels, labels) = pickle.load(file)\n",
        "    # close the file\n",
        "    file.close()\n",
        "    print(pixels.shape)\n",
        "    print(labels.shape)\n",
        "    return pixels, labels\n",
        "\n",
        "\n",
        "def plot_model_history(model_history, acc='accuracy', val_acc='val_accuracy'):\n",
        "    fig, axs = plt.subplots(1, 2, figsize=(15, 5))\n",
        "    axs[0].plot(range(1, len(model_history.history[acc]) + 1), model_history.history[acc])\n",
        "    axs[0].plot(range(1, len(model_history.history[val_acc]) + 1), model_history.history[val_acc])\n",
        "    axs[0].set_title('Model Accuracy')\n",
        "    axs[0].set_ylabel('Accuracy')\n",
        "    axs[0].set_xlabel('Epoch')\n",
        "    axs[0].set_xticks(np.arange(1, len(model_history.history[acc]) + 1), len(model_history.history[acc]) / 10)\n",
        "    axs[0].legend(['train', 'val'], loc='best')\n",
        "    axs[1].plot(range(1, len(model_history.history['loss']) + 1), model_history.history['loss'])\n",
        "    axs[1].plot(range(1, len(model_history.history['val_loss']) + 1), model_history.history['val_loss'])\n",
        "    axs[1].set_title('Model Loss')\n",
        "    axs[1].set_ylabel('Loss')\n",
        "    axs[1].set_xlabel('Epoch')\n",
        "    axs[1].set_xticks(np.arange(1, len(model_history.history['loss']) + 1), len(model_history.history['loss']) / 10)\n",
        "    axs[1].legend(['train', 'val'], loc='best')\n",
        "    plt.show()\n",
        "    # plt.savefig('roc.png')\n",
        "\n",
        "\n",
        "def plot_model_legend(model_history):\n",
        "    # view\n",
        "    accuracy = model_history.history['accuracy']\n",
        "    val_accuracy = model_history.history['val_accuracy']\n",
        "    loss = model_history.history['loss']\n",
        "    val_loss = model_history.history['val_loss']\n",
        "    epochs = range(len(accuracy))\n",
        "    plt.plot(epochs, accuracy, 'b', label='Training accuracy')\n",
        "    plt.plot(epochs, val_accuracy, 'r', label='Validation accuracy')\n",
        "    plt.plot(epochs, loss, 'y', label='Training loss')\n",
        "    plt.plot(epochs, val_loss, 'g', label='Validation loss')\n",
        "    plt.title('Training and validation')\n",
        "    plt.xlim(0, len(accuracy))\n",
        "    plt.ylim(0, 1)\n",
        "    plt.legend(loc='best')\n",
        "    plt.show()\n",
        "    \n",
        "\n",
        "def print_cmx(y_true, y_pred):\n",
        "    labels = sorted(list(set(y_true)))\n",
        "    cmx_data = confusion_matrix(y_true, y_pred, labels=labels)\n",
        "    df_cmx = pd.DataFrame(cmx_data, index=labels, columns=labels)\n",
        "    plt.figure(figsize = (10,7))\n",
        "    sn.heatmap(df_cmx, annot=True, fmt='g')\n",
        "    print(cmx_data)\n",
        "    plt.show()\n",
        "\n",
        "\n",
        "# def print_ratio(y_true, y_pred):\n",
        "#     labels = sorted(list(set(y_true)))\n",
        "#     cmx_data = confusion_matrix(y_true, y_pred, labels=labels)\n",
        "#     cmx_ratio = [[cmx_data[0][0]/(cmx_data[0][0] + cmx_data[0][1]), cmx_data[0][1]/(cmx_data[0][0] + cmx_data[0][1])],\n",
        "#                  [cmx_data[1][0]/(cmx_data[1][0] + cmx_data[1][1]), cmx_data[1][1]/(cmx_data[1][0] + cmx_data[1][1])] ]\n",
        "#     df_cmx = pd.DataFrame(cmx_ratio, index=labels, columns=labels)\n",
        "#     plt.figure(figsize = (10,7))\n",
        "#     sn.heatmap(df_cmx, annot=True)\n",
        "#     print(cmx_ratio)\n",
        "#     plt.show()"
      ]
    },
    {
      "cell_type": "code",
      "execution_count": 4,
      "metadata": {
        "colab": {
          "base_uri": "https://localhost:8080/"
        },
        "id": "-QxfofGjnoAV",
        "outputId": "3b2bde00-08d2-4401-d255-a07e16296e22"
      },
      "outputs": [
        {
          "name": "stdout",
          "output_type": "stream",
          "text": [
            "(2100, 768, 100, 1)\n",
            "(2100,)\n",
            "(2100, 768, 100, 1)\n",
            "(2100,)\n"
          ]
        }
      ],
      "source": [
        "data_train_1, labels_train_1 = load_data(\"/content/drive/MyDrive/data_train_1.data\")\n",
        "data_train_2, labels_train_2 = load_data(\"/content/drive/MyDrive/data_train_2.data\")\n",
        "# data_train_3, labels_train_3 = load_data(\"/home/quangdm/rnd/data/text/data_train_3.data\")\n",
        "# data_train_4, labels_train_4 = load_data(\"/home/quangdm/rnd/data/text/data_train_4.data\")\n",
        "# data_test, labels_test = load_data(\"/home/quangdm/rnd/data/text/data_test.data\")"
      ]
    },
    {
      "cell_type": "code",
      "execution_count": 5,
      "metadata": {
        "colab": {
          "base_uri": "https://localhost:8080/"
        },
        "id": "w3cMr0YCr33e",
        "outputId": "8f4bef1f-beef-497b-fb1c-a7bab9a8471b"
      },
      "outputs": [
        {
          "data": {
            "text/plain": [
              "((4200, 768, 100, 1), (4200, 6))"
            ]
          },
          "execution_count": 5,
          "metadata": {},
          "output_type": "execute_result"
        }
      ],
      "source": [
        "global_dataset = np.concatenate((data_train_1, data_train_2), axis=0)\n",
        "global_labels = np.concatenate((labels_train_1, labels_train_2), axis=None)\n",
        "\n",
        "# global_dataset = data_train_1\n",
        "# global_labels = labels_train_1\n",
        "\n",
        "lb = LabelBinarizer()\n",
        "global_labels = lb.fit_transform(global_labels)\n",
        "\n",
        "global_dataset.shape, global_labels.shape"
      ]
    },
    {
      "cell_type": "code",
      "execution_count": 6,
      "metadata": {
        "colab": {
          "base_uri": "https://localhost:8080/"
        },
        "id": "L78twlf5OMWF",
        "outputId": "e21983f6-f43b-4708-fc7e-c01eb9ca6bb2"
      },
      "outputs": [
        {
          "name": "stdout",
          "output_type": "stream",
          "text": [
            "Model: \"sequential\"\n",
            "_________________________________________________________________\n",
            " Layer (type)                Output Shape              Param #   \n",
            "=================================================================\n",
            " conv2d (Conv2D)             (None, 768, 100, 128)     3328      \n",
            "                                                                 \n",
            " max_pooling2d (MaxPooling2D  (None, 384, 50, 128)     0         \n",
            " )                                                               \n",
            "                                                                 \n",
            " conv2d_1 (Conv2D)           (None, 384, 50, 64)       204864    \n",
            "                                                                 \n",
            " max_pooling2d_1 (MaxPooling  (None, 192, 25, 64)      0         \n",
            " 2D)                                                             \n",
            "                                                                 \n",
            " conv2d_2 (Conv2D)           (None, 192, 25, 32)       51232     \n",
            "                                                                 \n",
            " max_pooling2d_2 (MaxPooling  (None, 96, 12, 32)       0         \n",
            " 2D)                                                             \n",
            "                                                                 \n",
            " conv2d_3 (Conv2D)           (None, 96, 12, 16)        12816     \n",
            "                                                                 \n",
            " max_pooling2d_3 (MaxPooling  (None, 48, 6, 16)        0         \n",
            " 2D)                                                             \n",
            "                                                                 \n",
            " batch_normalization (BatchN  (None, 48, 6, 16)        64        \n",
            " ormalization)                                                   \n",
            "                                                                 \n",
            " flatten (Flatten)           (None, 4608)              0         \n",
            "                                                                 \n",
            " dropout (Dropout)           (None, 4608)              0         \n",
            "                                                                 \n",
            " dense (Dense)               (None, 128)               589952    \n",
            "                                                                 \n",
            " dropout_1 (Dropout)         (None, 128)               0         \n",
            "                                                                 \n",
            " dense_1 (Dense)             (None, 6)                 774       \n",
            "                                                                 \n",
            "=================================================================\n",
            "Total params: 863,030\n",
            "Trainable params: 862,998\n",
            "Non-trainable params: 32\n",
            "_________________________________________________________________\n"
          ]
        }
      ],
      "source": [
        "class_number = len(global_labels[0])\n",
        "ip_shape = global_dataset[0].shape\n",
        "\n",
        "model = Sequential()\n",
        "model.add(Conv2D(128, kernel_size=(5, 5), input_shape=(ip_shape), padding='same'))\n",
        "model.add(MaxPooling2D(pool_size=(2, 2)))\n",
        "model.add(Conv2D(64, kernel_size=(5, 5), activation='relu', padding='same'))\n",
        "model.add(MaxPooling2D(pool_size=(2, 2)))\n",
        "model.add(Conv2D(32, kernel_size=(5, 5), activation='relu', padding='same'))\n",
        "model.add(MaxPooling2D(pool_size=(2, 2)))\n",
        "model.add(Conv2D(16, kernel_size=(5, 5), activation='relu', padding='same'))\n",
        "model.add(MaxPooling2D(pool_size=(2, 2)))\n",
        "model.add(BatchNormalization())\n",
        "model.add(Flatten())\n",
        "model.add(Dropout(0.4))\n",
        "model.add(Dense(128, activation='relu'))\n",
        "model.add(Dropout(0.5))\n",
        "model.add(Dense(class_number, activation='softmax'))\n",
        "\n",
        "model.compile(optimizer='adam', loss='categorical_crossentropy', metrics=['accuracy'])\n",
        "model.summary()"
      ]
    },
    {
      "cell_type": "code",
      "execution_count": null,
      "metadata": {
        "id": "qr0O2XcMTTy9"
      },
      "outputs": [],
      "source": [
        "data_train, data_test, labels_train, labels_test = train_test_split(global_dataset, global_labels, test_size=0.2, \n",
        "                                                                    random_state=100, shuffle=True, stratify=global_labels)\n",
        "\n",
        "\n",
        "train_data, valid_data, train_labels, valid_labels = train_test_split(data_train, labels_train, test_size=0.2, \n",
        "                                                                      random_state=100, shuffle=True, stratify=labels_train)\n",
        "\n",
        "data_train.shape, data_test.shape, labels_train.shape, labels_test.shape, train_data.shape, valid_data.shape, train_labels.shape, valid_labels.shape"
      ]
    },
    {
      "cell_type": "code",
      "execution_count": null,
      "metadata": {
        "id": "TQ6zlSPMTT0R"
      },
      "outputs": [],
      "source": [
        "weights_init = model.get_weights()\n",
        "model.set_weights(weights_init)\n",
        "model_history = model.fit(train_data, train_labels, epochs=50, batch_size=16, verbose='auto', \n",
        "                          validation_data=(valid_data, valid_labels), shuffle=True)"
      ]
    },
    {
      "cell_type": "code",
      "execution_count": null,
      "metadata": {
        "colab": {
          "base_uri": "https://localhost:8080/"
        },
        "id": "0DNzvJIcZHm2",
        "outputId": "43a58141-b315-48cd-cae4-d032587ce1c3"
      },
      "outputs": [
        {
          "name": "stdout",
          "output_type": "stream",
          "text": [
            "27/27 [==============================] - 2s 82ms/step - loss: 0.9522 - accuracy: 0.8310\n",
            "Test loss: 0.9521843194961548\n",
            "Test accuracy: 0.8309524059295654\n"
          ]
        }
      ],
      "source": [
        "test_eval = model.evaluate(data_test, labels_test, verbose=1)\n",
        "print('Test loss:', test_eval[0])\n",
        "print('Test accuracy:', test_eval[1])"
      ]
    },
    {
      "cell_type": "code",
      "execution_count": null,
      "metadata": {
        "id": "WInBUYxPZf85"
      },
      "outputs": [],
      "source": [
        "plot_model_history(model_history)\n",
        "plot_model_legend(model_history)"
      ]
    },
    {
      "cell_type": "code",
      "execution_count": null,
      "metadata": {
        "id": "q6CDzxxWjtGO"
      },
      "outputs": [],
      "source": [
        "y_test = np.argmax(labels_test, axis=1)\n",
        "labels_test, y_test"
      ]
    },
    {
      "cell_type": "code",
      "execution_count": null,
      "metadata": {
        "colab": {
          "base_uri": "https://localhost:8080/",
          "height": 775
        },
        "id": "WyGw2JYAZwHh",
        "outputId": "054ec42f-622d-4d62-ae63-7fca2fdf6b97"
      },
      "outputs": [
        {
          "name": "stdout",
          "output_type": "stream",
          "text": [
            "Accuracy: 83.10 %\n",
            "              precision    recall  f1-score   support\n",
            "\n",
            "     Class 0       0.70      0.73      0.72       140\n",
            "     Class 1       0.92      0.82      0.87       140\n",
            "     Class 2       0.84      0.81      0.82       140\n",
            "     Class 3       0.81      0.93      0.87       140\n",
            "     Class 4       0.87      0.87      0.87       140\n",
            "     Class 5       0.86      0.83      0.84       140\n",
            "\n",
            "    accuracy                           0.83       840\n",
            "   macro avg       0.83      0.83      0.83       840\n",
            "weighted avg       0.83      0.83      0.83       840\n",
            "\n",
            "[[102   5   2  14  16   1]\n",
            " [ 11 115   4   2   1   7]\n",
            " [  7   3 113   6   0  11]\n",
            " [  8   1   0 130   1   0]\n",
            " [ 11   0   0   7 122   0]\n",
            " [  6   1  15   1   1 116]]\n"
          ]
        },
        {
          "data": {
            "image/png": "[encoded data removed]",
            "text/plain": [
              "<Figure size 720x504 with 2 Axes>"
            ]
          },
          "metadata": {
            "needs_background": "light"
          },
          "output_type": "display_data"
        }
      ],
      "source": [
        "from sklearn.metrics import accuracy_score, plot_confusion_matrix, plot_roc_curve, classification_report, auc\n",
        "\n",
        "y_predict = model.predict(data_test)\n",
        "y_target = np.argmax(y_predict, axis=1)\n",
        "y_test = np.argmax(labels_test, axis=1)\n",
        "print(\"Accuracy: %.2f %%\" % (100 * accuracy_score(y_test, y_target)))\n",
        "\n",
        "target_names = [\"Class {}\".format(i) for i in range(class_number)]\n",
        "print(classification_report(y_test, y_target, target_names=target_names))\n",
        "\n",
        "print_cmx(y_test, y_target)\n",
        "# print_ratio(y_test, y_target)"
      ]
    },
    {
      "cell_type": "code",
      "execution_count": 7,
      "metadata": {
        "colab": {
          "base_uri": "https://localhost:8080/"
        },
        "id": "MwlG26Gmqxau",
        "outputId": "d258176c-cb8a-4e7f-c214-97a7fe2dfd7f"
      },
      "outputs": [
        {
          "data": {
            "text/plain": [
              "((4200, 768, 100, 1), array([0, 0, 0, ..., 5, 5, 5]))"
            ]
          },
          "execution_count": 7,
          "metadata": {},
          "output_type": "execute_result"
        }
      ],
      "source": [
        "# training ROC\n",
        "\n",
        "global_labels_not_one_hot = np.argmax(global_labels, axis=1)\n",
        "global_dataset.shape, global_labels_not_one_hot"
      ]
    },
    {
      "cell_type": "code",
      "execution_count": 8,
      "metadata": {
        "colab": {
          "base_uri": "https://localhost:8080/"
        },
        "id": "6Bel68XWq2mF",
        "outputId": "44c62191-44ad-439c-e97a-a14791f20039"
      },
      "outputs": [
        {
          "name": "stdout",
          "output_type": "stream",
          "text": [
            "<class 'numpy.ndarray'>\n",
            "(3780, 768, 100, 1)\n",
            "<class 'numpy.ndarray'>\n",
            "(420,)\n",
            "<class 'numpy.ndarray'>\n",
            "(3780, 768, 100, 1)\n",
            "<class 'numpy.ndarray'>\n",
            "(420,)\n",
            "<class 'numpy.ndarray'>\n",
            "(3780, 768, 100, 1)\n",
            "<class 'numpy.ndarray'>\n",
            "(420,)\n",
            "<class 'numpy.ndarray'>\n",
            "(3780, 768, 100, 1)\n",
            "<class 'numpy.ndarray'>\n",
            "(420,)\n",
            "<class 'numpy.ndarray'>\n",
            "(3780, 768, 100, 1)\n",
            "<class 'numpy.ndarray'>\n",
            "(420,)\n",
            "<class 'numpy.ndarray'>\n",
            "(3780, 768, 100, 1)\n",
            "<class 'numpy.ndarray'>\n",
            "(420,)\n",
            "<class 'numpy.ndarray'>\n",
            "(3780, 768, 100, 1)\n",
            "<class 'numpy.ndarray'>\n",
            "(420,)\n",
            "<class 'numpy.ndarray'>\n",
            "(3780, 768, 100, 1)\n",
            "<class 'numpy.ndarray'>\n",
            "(420,)\n",
            "<class 'numpy.ndarray'>\n",
            "(3780, 768, 100, 1)\n",
            "<class 'numpy.ndarray'>\n",
            "(420,)\n",
            "<class 'numpy.ndarray'>\n",
            "(3780, 768, 100, 1)\n",
            "<class 'numpy.ndarray'>\n",
            "(420,)\n"
          ]
        }
      ],
      "source": [
        "X = global_dataset\n",
        "y = global_labels_not_one_hot\n",
        "\n",
        "from sklearn.model_selection import StratifiedKFold\n",
        "\n",
        "kfold = StratifiedKFold(n_splits=10, shuffle=True, random_state=100)\n",
        "for train, test in kfold.split(X, y):\n",
        "    print(type(X[train]))\n",
        "    print(X[train].shape)\n",
        "    print(type(y[test]))\n",
        "    print(y[test].shape)"
      ]
    },
    {
      "cell_type": "code",
      "execution_count": 9,
      "metadata": {
        "id": "lIsiuBv8rlEu"
      },
      "outputs": [],
      "source": [
        "fold_dict={}\n",
        "fold_dict['y_test']=y[test]"
      ]
    },
    {
      "cell_type": "code",
      "execution_count": null,
      "metadata": {
        "colab": {
          "base_uri": "https://localhost:8080/"
        },
        "id": "WksoklsJroFk",
        "outputId": "4a7b4847-7ea5-4f04-d12e-d31b3d7a6e4f"
      },
      "outputs": [
        {
          "name": "stdout",
          "output_type": "stream",
          "text": [
            "Epoch 1/50\n",
            "237/237 [==============================] - 34s 86ms/step - loss: 1.5730 - accuracy: 0.3556\n",
            "Epoch 2/50\n",
            "237/237 [==============================] - 20s 83ms/step - loss: 0.8458 - accuracy: 0.6937\n",
            "Epoch 3/50\n",
            "237/237 [==============================] - 20s 84ms/step - loss: 0.6846 - accuracy: 0.7548\n",
            "Epoch 4/50\n",
            "237/237 [==============================] - 20s 85ms/step - loss: 0.5719 - accuracy: 0.7950\n",
            "Epoch 5/50\n",
            "237/237 [==============================] - 20s 84ms/step - loss: 0.4970 - accuracy: 0.8156\n",
            "Epoch 6/50\n",
            "237/237 [==============================] - 20s 84ms/step - loss: 0.4531 - accuracy: 0.8333\n",
            "Epoch 7/50\n",
            "237/237 [==============================] - 20s 84ms/step - loss: 0.4260 - accuracy: 0.8444\n",
            "Epoch 8/50\n",
            "237/237 [==============================] - 20s 84ms/step - loss: 0.3748 - accuracy: 0.8616\n",
            "Epoch 9/50\n",
            "237/237 [==============================] - 20s 84ms/step - loss: 0.3446 - accuracy: 0.8688\n",
            "Epoch 10/50\n",
            "237/237 [==============================] - 20s 85ms/step - loss: 0.3430 - accuracy: 0.8738\n",
            "Epoch 11/50\n",
            "237/237 [==============================] - 20s 84ms/step - loss: 0.3067 - accuracy: 0.8926\n",
            "Epoch 12/50\n",
            "237/237 [==============================] - 20s 84ms/step - loss: 0.3425 - accuracy: 0.8741\n",
            "Epoch 13/50\n",
            "237/237 [==============================] - 20s 86ms/step - loss: 0.2720 - accuracy: 0.8987\n",
            "Epoch 14/50\n",
            "237/237 [==============================] - 21s 89ms/step - loss: 0.2609 - accuracy: 0.8992\n",
            "Epoch 15/50\n",
            "237/237 [==============================] - 20s 86ms/step - loss: 0.2623 - accuracy: 0.9019\n",
            "Epoch 16/50\n",
            "212/237 [=========================>....] - ETA: 2s - loss: 0.2180 - accuracy: 0.9216"
          ]
        }
      ],
      "source": [
        "kfold = StratifiedKFold(n_splits=10, shuffle=True, random_state=100)\n",
        "weights_init = model.get_weights()\n",
        "pred_folds_list=[]\n",
        "\n",
        "cvscores = []\n",
        "for train, test in kfold.split(X, y):\n",
        "    fold_dict=dict()\n",
        "\n",
        "    y_train_one_hot = tf.keras.utils.to_categorical(y[train], num_classes=class_number)\n",
        "    y_test_one_hot = tf.keras.utils.to_categorical(y[test], num_classes=class_number)\n",
        "\n",
        "    model.set_weights(weights_init)\n",
        "    model.fit(X[train], y_train_one_hot, epochs=50, batch_size=16, verbose='auto', shuffle=True)\n",
        "    # evaluate the model\n",
        "    scores = model.evaluate(X[test], y_test_one_hot, verbose='auto')\n",
        "    \n",
        "    fold_dict['y_test']=y_test_one_hot\n",
        "    fold_dict['y_pred']=model.predict(X[test])\n",
        "    pred_folds_list.append(fold_dict)\n",
        "    \n",
        "    print(\"%s: %.2f%%\" % (model.metrics_names[1], scores[1]*100))\n",
        "    cvscores.append(scores[1] * 100)"
      ]
    },
    {
      "cell_type": "code",
      "execution_count": null,
      "metadata": {
        "id": "Pt93tNV4vRPd"
      },
      "outputs": [],
      "source": [
        "print(\"%.2f%% (+/- %.2f%%)\" % (np.mean(cvscores), np.std(cvscores)))"
      ]
    },
    {
      "cell_type": "code",
      "execution_count": null,
      "metadata": {
        "id": "mvOa493VEPTF"
      },
      "outputs": [],
      "source": [
        "from sklearn.metrics import confusion_matrix, roc_auc_score, roc_curve, auc\n",
        "\n",
        "i = 1\n",
        "avg_score = []\n",
        "for idx, item in enumerate(pred_folds_list):\n",
        "    y_test = item['y_test']\n",
        "    y_pred = item['y_pred']\n",
        "\n",
        "    y_test_classer = np.argmax(y_test, axis=1)\n",
        "    score = roc_auc_score(y_test_classer, y_pred, multi_class='ovr')\n",
        "    avg_score.append(score)\n",
        "    print(\"ROC\", i ,\": %.4f\" % score)\n",
        "    i += 1\n",
        "print(\"AVG ROC = %.4f\" % np.average(avg_score))"
      ]
    },
    {
      "cell_type": "code",
      "execution_count": null,
      "metadata": {
        "id": "Ad4NFw5bvRvU"
      },
      "outputs": [],
      "source": [
        "# from sklearn.metrics import confusion_matrix, roc_auc_score, roc_curve, auc\n",
        "# fpr_list=[]\n",
        "# tpr_list=[]\n",
        "# auc_list=[]\n",
        "# i = 1\n",
        "# for idx,item in enumerate(pred_folds_list):\n",
        "#     # print(np.array(item['y_pred']).shape)\n",
        "#     # fpr, tpr, thresholds = roc_curve(item['y_test'], item['y_pred'])\n",
        "\n",
        "#     y_test = item['y_test']\n",
        "#     y_pred = item['y_pred']\n",
        "\n",
        "#     y_test_classer = np.argmax(y_test, axis=1)\n",
        "#     fpr, tpr, thresholds = roc_auc_score(y_test_classer, y_pred)\n",
        "\n",
        "#     fpr_list.append(fpr)\n",
        "#     tpr_list.append(tpr)\n",
        "\n",
        "#     # plt.plot(fpr, tpr, linestyle='--')\n",
        "#     auc_keras = auc(fpr, tpr)\n",
        "#     auc_list.append(auc_keras)\n",
        "#     plt.plot(fpr, tpr, linestyle='--', label='ROC %d (auc = %0.3f)' % (i, auc_keras))\n",
        "#     i += 1\n",
        "\n",
        "# plt.legend(loc=\"lower right\")\n",
        "# plt.show()"
      ]
    },
    {
      "cell_type": "code",
      "execution_count": null,
      "metadata": {
        "id": "53TKlqVDVitV"
      },
      "outputs": [],
      "source": [
        "model.save('/content/drive/MyDrive/cnn_nlp_text_classification_6_classer.h5', save_format='h5')"
      ]
    }
  ],
  "metadata": {
    "accelerator": "GPU",
    "colab": {
      "name": "ghtk-text-classification.ipynb.ipynb",
      "provenance": []
    },
    "gpuClass": "standard",
    "kernelspec": {
      "display_name": "Python 3",
      "name": "python3"
    },
    "language_info": {
      "name": "python"
    }
  },
  "nbformat": 4,
  "nbformat_minor": 0
}
